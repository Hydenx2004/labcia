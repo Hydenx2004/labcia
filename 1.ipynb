{
  "nbformat": 4,
  "nbformat_minor": 0,
  "metadata": {
    "colab": {
      "provenance": []
    },
    "kernelspec": {
      "name": "python3",
      "display_name": "Python 3"
    },
    "language_info": {
      "name": "python"
    }
  },
  "cells": [
    {
      "cell_type": "code",
      "source": [
        "import pandas as pd\n",
        "import numpy as np\n",
        "from sklearn.model_selection import train_test_split\n",
        "from sklearn.preprocessing import OneHotEncoder, StandardScaler\n",
        "from tensorflow.keras.models import Sequential\n",
        "from tensorflow.keras.layers import Dense\n",
        "\n",
        "# Load the dataset\n",
        "data = pd.read_csv('Iris.csv')\n",
        "\n",
        "# Extract features and target labels\n",
        "X = data[['SepalLengthCm', 'SepalWidthCm', 'PetalLengthCm', 'PetalWidthCm']].values\n",
        "y = data['Species'].values\n",
        "\n",
        "# Encode target labels as one-hot vectors\n",
        "encoder = OneHotEncoder(sparse_output=False)\n",
        "y_onehot = encoder.fit_transform(y.reshape(-1, 1))\n",
        "\n",
        "# Split the dataset into training and test sets\n",
        "X_train, X_test, y_train, y_test = train_test_split(X, y_onehot, test_size=0.2, random_state=42)\n",
        "\n",
        "# Scale features for better performance\n",
        "scaler = StandardScaler()\n",
        "X_train = scaler.fit_transform(X_train)\n",
        "X_test = scaler.transform(X_test)\n",
        "\n",
        "def create_model(output_activation):\n",
        "    \"\"\"Create a neural network model with the specified output activation.\"\"\"\n",
        "    model = Sequential([\n",
        "        Dense(16, activation='relu', input_shape=(X_train.shape[1],)),\n",
        "        Dense(12, activation='relu'),\n",
        "        Dense(3, activation=output_activation)  # Output layer\n",
        "    ])\n",
        "    model.compile(optimizer='adam', loss='categorical_crossentropy', metrics=['accuracy'])\n",
        "    return model\n",
        "\n",
        "# Evaluate model with SoftMax activation\n",
        "model_softmax = create_model('softmax')\n",
        "model_softmax.fit(X_train, y_train, epochs=20, batch_size=8, verbose=0)\n",
        "softmax_loss, softmax_accuracy = model_softmax.evaluate(X_test, y_test, verbose=0)\n",
        "\n",
        "print(f\"SoftMax Activation - Test Loss: {softmax_loss}, Test Accuracy: {softmax_accuracy}\")\n",
        "\n",
        "# Evaluate model with Sigmoid activation\n",
        "model_sigmoid = create_model('sigmoid')\n",
        "model_sigmoid.fit(X_train, y_train, epochs=20, batch_size=8, verbose=0)\n",
        "sigmoid_loss, sigmoid_accuracy = model_sigmoid.evaluate(X_test, y_test, verbose=0)\n",
        "\n",
        "print(f\"Sigmoid Activation - Test Loss: {sigmoid_loss}, Test Accuracy: {sigmoid_accuracy}\")\n"
      ],
      "metadata": {
        "colab": {
          "base_uri": "https://localhost:8080/"
        },
        "id": "z5ja4jpaSSux",
        "outputId": "fb46840a-d81a-4769-c88c-8b5dc6540202"
      },
      "execution_count": 2,
      "outputs": [
        {
          "output_type": "stream",
          "name": "stderr",
          "text": [
            "/usr/local/lib/python3.11/dist-packages/keras/src/layers/core/dense.py:87: UserWarning: Do not pass an `input_shape`/`input_dim` argument to a layer. When using Sequential models, prefer using an `Input(shape)` object as the first layer in the model instead.\n",
            "  super().__init__(activity_regularizer=activity_regularizer, **kwargs)\n"
          ]
        },
        {
          "output_type": "stream",
          "name": "stdout",
          "text": [
            "SoftMax Activation - Test Loss: 0.18181397020816803, Test Accuracy: 0.9666666388511658\n",
            "Sigmoid Activation - Test Loss: 0.22958926856517792, Test Accuracy: 0.9333333373069763\n"
          ]
        }
      ]
    },
    {
      "cell_type": "code",
      "source": [],
      "metadata": {
        "id": "JxVWAodkSaBC"
      },
      "execution_count": null,
      "outputs": []
    }
  ]
}
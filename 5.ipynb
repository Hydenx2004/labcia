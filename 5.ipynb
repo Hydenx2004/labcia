{
  "nbformat": 4,
  "nbformat_minor": 0,
  "metadata": {
    "colab": {
      "provenance": []
    },
    "kernelspec": {
      "name": "python3",
      "display_name": "Python 3"
    },
    "language_info": {
      "name": "python"
    }
  },
  "cells": [
    {
      "cell_type": "code",
      "execution_count": 3,
      "metadata": {
        "colab": {
          "base_uri": "https://localhost:8080/"
        },
        "id": "96a9Z98zY6K6",
        "outputId": "84f0763b-e68e-4c46-eb62-98c2c88eeda1"
      },
      "outputs": [
        {
          "output_type": "stream",
          "name": "stderr",
          "text": [
            "WARNING:hmmlearn.hmm:MultinomialHMM has undergone major changes. The previous version was implementing a CategoricalHMM (a special case of MultinomialHMM). This new implementation follows the standard definition for a Multinomial distribution (e.g. as in https://en.wikipedia.org/wiki/Multinomial_distribution). See these issues for details:\n",
            "https://github.com/hmmlearn/hmmlearn/issues/335\n",
            "https://github.com/hmmlearn/hmmlearn/issues/340\n",
            "WARNING:hmmlearn.base:Even though the 'startprob_' attribute is set, it will be overwritten during initialization because 'init_params' contains 's'\n",
            "WARNING:hmmlearn.base:Even though the 'transmat_' attribute is set, it will be overwritten during initialization because 'init_params' contains 't'\n"
          ]
        },
        {
          "output_type": "stream",
          "name": "stdout",
          "text": [
            "Hidden states (predicted): ['Genuine user', 'Intruder', 'Genuine user', 'Intruder', 'Genuine user', 'Intruder']\n"
          ]
        }
      ],
      "source": [
        "import numpy as np\n",
        "from hmmlearn import hmm\n",
        "\n",
        "# Define states and observations\n",
        "states = ['Genuine user', 'Intruder']\n",
        "observations = ['early', 'mid', 'late']\n",
        "\n",
        "# Map observations to integers\n",
        "obs_map = {obs: idx for idx, obs in enumerate(observations)}\n",
        "data = [obs_map[obs] for obs in ['early', 'early', 'late', 'mid', 'early', 'late']]\n",
        "\n",
        "# Define the HMM model\n",
        "model = hmm.MultinomialHMM(n_components=len(states), n_iter=100)\n",
        "\n",
        "# Transition probabilities (example)\n",
        "model.startprob_ = np.array([0.5, 0.5])  # Starting probabilities\n",
        "model.transmat_ = np.array([[0.7, 0.3],  # Genuine user transitions\n",
        "                            [0.4, 0.6]])  # Intruder transitions\n",
        "\n",
        "# Emission probabilities (example)\n",
        "model.emissionprob_ = np.array([[0.6, 0.3, 0.1],  # Genuine user emissions\n",
        "                                [0.2, 0.4, 0.4]])  # Intruder emissions\n",
        "\n",
        "# Reshape data\n",
        "data = np.array(data).reshape(-1, 1)\n",
        "\n",
        "# Fit the model\n",
        "model.fit(data)\n",
        "\n",
        "# Predict hidden states\n",
        "logprob, hidden_states = model.decode(data, algorithm=\"viterbi\")\n",
        "print(\"Hidden states (predicted):\", [states[state] for state in hidden_states])\n"
      ]
    },
    {
      "cell_type": "code",
      "source": [
        "!pip install hmmlearn\n"
      ],
      "metadata": {
        "colab": {
          "base_uri": "https://localhost:8080/"
        },
        "id": "comb9KIOY8NA",
        "outputId": "ff69d566-934f-4bf3-eb71-2b7f875bbad2"
      },
      "execution_count": 2,
      "outputs": [
        {
          "output_type": "stream",
          "name": "stdout",
          "text": [
            "Collecting hmmlearn\n",
            "  Downloading hmmlearn-0.3.3-cp311-cp311-manylinux_2_17_x86_64.manylinux2014_x86_64.whl.metadata (3.0 kB)\n",
            "Requirement already satisfied: numpy>=1.10 in /usr/local/lib/python3.11/dist-packages (from hmmlearn) (2.0.2)\n",
            "Requirement already satisfied: scikit-learn!=0.22.0,>=0.16 in /usr/local/lib/python3.11/dist-packages (from hmmlearn) (1.6.1)\n",
            "Requirement already satisfied: scipy>=0.19 in /usr/local/lib/python3.11/dist-packages (from hmmlearn) (1.15.2)\n",
            "Requirement already satisfied: joblib>=1.2.0 in /usr/local/lib/python3.11/dist-packages (from scikit-learn!=0.22.0,>=0.16->hmmlearn) (1.4.2)\n",
            "Requirement already satisfied: threadpoolctl>=3.1.0 in /usr/local/lib/python3.11/dist-packages (from scikit-learn!=0.22.0,>=0.16->hmmlearn) (3.6.0)\n",
            "Downloading hmmlearn-0.3.3-cp311-cp311-manylinux_2_17_x86_64.manylinux2014_x86_64.whl (165 kB)\n",
            "\u001b[2K   \u001b[90m━━━━━━━━━━━━━━━━━━━━━━━━━━━━━━━━━━━━━━━━\u001b[0m \u001b[32m165.9/165.9 kB\u001b[0m \u001b[31m4.7 MB/s\u001b[0m eta \u001b[36m0:00:00\u001b[0m\n",
            "\u001b[?25hInstalling collected packages: hmmlearn\n",
            "Successfully installed hmmlearn-0.3.3\n"
          ]
        }
      ]
    },
    {
      "cell_type": "code",
      "source": [],
      "metadata": {
        "id": "Cra7_vPLdhxh"
      },
      "execution_count": null,
      "outputs": []
    }
  ]
}